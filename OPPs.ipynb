{
  "nbformat": 4,
  "nbformat_minor": 0,
  "metadata": {
    "colab": {
      "provenance": []
    },
    "kernelspec": {
      "name": "python3",
      "display_name": "Python 3"
    },
    "language_info": {
      "name": "python"
    }
  },
  "cells": [
    {
      "cell_type": "markdown",
      "source": [
        "#Basic OPPs Questions"
      ],
      "metadata": {
        "id": "lQ5ETqA5yfwT"
      }
    },
    {
      "cell_type": "markdown",
      "source": [
        "###Q1. What is Object-Oriented Programming (OOP)?\n",
        "**Answer:**\n",
        "\n",
        "Object-Oriented Programming (OOP) is a programming paradigm based on the concept of objects, which contain both data (attributes) and behavior (methods). It allows programmers to model real-world entities using classes and promotes modularity, reusability, and organized code through key principles like encapsulation, inheritance, polymorphism, and abstraction.\n",
        "\n",
        "###Q2. What is a class in OOP?\n",
        "**Answer:**\n",
        "\n",
        "A class in Object-Oriented Programming is a blueprint or template for creating objects. It defines a set of attributes (data) and methods (functions) that the created objects (instances) will have. Classes help in organizing code and implementing OOP principles like encapsulation and abstraction.\n",
        "\n",
        "###Q3. What is an object in OOP?\n",
        "**Answer:**\n",
        "\n",
        "An object is an instance of a class in Object-Oriented Programming. It represents a real-world entity and contains both data (attributes) and behavior (methods) defined by its class. Multiple objects can be created from a single class, each with its own unique data.\n",
        "\n",
        "###Q4. What is the difference between abstraction and encapsulation?\n",
        "**Answer:**\n",
        "\n",
        "| Aspect           | Abstraction                                    | Encapsulation                              |\n",
        "|------------------|------------------------------------------------|--------------------------------------------|\n",
        "| **Meaning**      | Hiding complex implementation details and showing only essential features to the user. | Wrapping data (attributes) and methods into a single unit (class) and restricting direct access to some components. |\n",
        "| **Purpose**      | To reduce complexity and increase efficiency by exposing only necessary parts. | To protect the internal state of an object from unwanted access and modification. |\n",
        "| **Focus**        | Focuses on *what* an object does.              | Focuses on *how* data is hidden and secured. |\n",
        "| **Implementation** | Achieved using abstract classes and interfaces (or simply by exposing selective methods). | Achieved by using access modifiers like private, protected (in Python, by naming conventions like `_` or `__`). |\n",
        "| **Example**      | A car’s interface: you know how to drive it without knowing its internal engine workings. | Car engine parts are hidden and can only be accessed via specific methods (start, stop). |\n",
        "\n",
        "###Q5. What are dunder methods in Python?\n",
        "**Answer:**\n",
        "\n",
        "**Dunder methods** (short for **double underscore methods**), also known as **magic methods** or **special methods**, are special predefined methods in Python whose names begin and end with double underscores (`__`). Examples include `__init__`, `__str__`, `__repr__`, `__add__`, and many others.\n",
        "\n",
        "These methods allow Python classes to implement and customize the behavior of built-in operations and functions. For instance, the `__init__` method initializes an object when it is created, `__str__` defines how an object is converted to a string (e.g., when printed), and `__add__` allows the use of the `+` operator between objects of the class.\n",
        "\n",
        "By defining dunder methods, programmers can make their classes behave like built-in types, enabling operator overloading, object comparison, custom iteration, and more. This enhances the flexibility and expressiveness of Python programs by integrating user-defined objects seamlessly with Python’s syntax and built-in functions.\n",
        "\n",
        "###Q6. Explain the concept of inheritance in OOP.\n",
        "\n",
        "**Answer:**\n",
        "\n",
        "Inheritance is a core principle of Object-Oriented Programming (OOP) that allows a new class, known as the **child class** or **subclass**, to acquire the properties and behaviors (attributes and methods) of an existing class, called the **parent class** or **superclass**. This relationship enables the child class to inherit all the features of the parent class while also allowing it to add new features or modify existing ones.\n",
        "\n",
        "The main purpose of inheritance is to promote **code reusability** and **reduce redundancy**. Instead of writing the same code again, developers can create a general class with common attributes and methods and then create more specific classes that inherit from it.\n",
        "\n",
        "Inheritance also helps to represent real-world relationships through an “**is-a**” relationship. For example, a `Car` class can inherit from a `Vehicle` class because a car **is a** vehicle. This logical hierarchy makes the code easier to understand and maintain.\n",
        "\n",
        "###Q7. What is polymorphism in OOP?\n",
        "**Answer:**\n",
        "\n",
        "Polymorphism is an important concept in Object-Oriented Programming (OOP) that allows objects of different classes to be treated as objects of a common superclass. It enables a single interface to represent different underlying forms (data types).\n",
        "\n",
        "The term polymorphism means “many forms.” In OOP, it allows methods to perform different tasks based on the object that is invoking them, even if the method name is the same.\n",
        "\n",
        "###Q8. How is encapsulation achieved in Python?\n",
        "**Answer:**\n",
        "\n",
        "Encapsulation is the Object-Oriented Programming concept of **restricting direct access** to some of an object’s components, which helps to protect the internal state of the object and prevent unintended interference or misuse.\n",
        "\n",
        "In Python, encapsulation is achieved primarily through **naming conventions** that indicate the intended level of access:\n",
        "\n",
        "- **Public members:** Variables and methods that are accessible from anywhere. These have no leading underscores (e.g., `name`).\n",
        "\n",
        "- **Protected members:** Indicated by a single leading underscore (e.g., `_age`). This is a convention suggesting that these members are intended for internal use within the class or its subclasses, but they are not enforced by Python.\n",
        "\n",
        "- **Private members:** Indicated by a double leading underscore (e.g., `__salary`). This triggers name mangling where Python internally changes the name to prevent accidental access from outside the class. This provides stronger access restriction compared to protected members.\n",
        "\n",
        "###Q9. What is a constructor in Python?\n",
        "**Answer:**\n",
        "\n",
        "A **constructor** in Python is a special method named `__init__` that is automatically called when a new object of a class is created. Its primary purpose is to initialize the object's attributes with values.\n",
        "\n",
        "The constructor allows you to set up the initial state of an object by accepting parameters and assigning them to instance variables. This method ensures that every object is created with a defined and consistent state.\n",
        "\n",
        "###Q10. What are class and static methods in Python?\n",
        "**Answer:**\n",
        "\n",
        "In Python, **class methods** and **static methods** are two types of methods that belong to a class rather than an instance of the class.\n",
        "\n",
        "- **Class Methods:**  \n",
        "  Class methods are methods that take the class itself as the first argument, conventionally named `cls`. They are defined using the `@classmethod` decorator. Class methods can access or modify class state that applies across all instances of the class. They cannot access instance-specific data.  \n",
        "  Class methods are often used for factory methods that return class objects or for operations related to the class as a whole.\n",
        "\n",
        "- **Static Methods:**  \n",
        "  Static methods do not take the instance (`self`) or class (`cls`) as the first argument. They are defined using the `@staticmethod` decorator. Static methods behave like regular functions but belong to the class's namespace. They cannot modify object or class state.  \n",
        "  Static methods are used when some functionality logically belongs to the class but does not require access to class or instance-specific data.\n",
        "\n",
        "###Q11. What is method overloading in Python?\n",
        "**Answer:**\n",
        "\n",
        "**Method overloading** is the ability to define multiple methods with the same name but different parameters (number or types) within the same class. It allows a method to perform different tasks based on the arguments passed.\n",
        "\n",
        "However, Python does **not** support method overloading in the traditional sense like some other languages (e.g., Java or C++). If multiple methods with the same name are defined, the latest one overrides the previous ones.\n",
        "\n",
        "In Python, method overloading can be simulated by using default arguments, variable-length arguments (`*args`, `**kwargs`), or by checking the types of arguments within a single method to handle different cases.\n",
        "\n",
        "Thus, while Python does not support multiple method signatures for the same method name, flexible argument handling allows similar behavior.\n",
        "\n",
        "###Q12. What is method overriding in OOP?\n",
        "**Answer:**\n",
        "\n",
        "**Method overriding** is a feature in Object-Oriented Programming (OOP) where a subclass provides its own specific implementation of a method that is already defined in its parent class.\n",
        "\n",
        "When a method in the child class has the same name, return type, and parameters as a method in the parent class, the child class's method **overrides** the parent’s method. This allows the subclass to customize or completely change the behavior of that method for its own objects.\n",
        "\n",
        "Method overriding enables **runtime polymorphism**, where the method that gets called is determined by the type of the object at runtime, not the reference type.\n",
        "\n",
        "###Q13. What is a property decorator in Python?\n",
        "**Answer:**\n",
        "\n",
        "The **property decorator** in Python is a built-in decorator used to define methods in a class that behave like attributes. It allows you to customize access to instance variables by defining getter, setter, and deleter methods in a clean and readable way.\n",
        "\n",
        "Using the `@property` decorator, you can create a method that can be accessed like an attribute, which is useful for controlling how values are retrieved or computed without changing the interface of the class.\n",
        "\n",
        "This helps in **encapsulation** by providing controlled access to private attributes and allows validation or computation when getting or setting values.\n",
        "\n",
        "###Q14. Why is polymorphism important in OOP?\n",
        "**Answer:**\n",
        "\n",
        "Polymorphism is important in Object-Oriented Programming (OOP) because it allows objects of different classes to be treated as instances of a common superclass. This enables the same interface or method to be used for different underlying forms (data types), promoting flexibility and extensibility in code.\n",
        "\n",
        "The key benefits of polymorphism include:\n",
        "\n",
        "- **Code Reusability:** Functions or methods can operate on objects of different classes as long as they share the same interface, reducing the need for multiple versions of the same code.\n",
        "- **Simplifies Code Maintenance:** Changes to shared behavior can be made in one place, improving maintainability.\n",
        "- **Supports Dynamic Behavior:** Polymorphism enables method calls to be resolved at runtime depending on the object type, allowing for more dynamic and flexible program design.\n",
        "- **Enhances Scalability:** New classes can be added with minimal changes to existing code since they can fit into existing polymorphic interfaces.\n",
        "- **Enables Design Patterns:** Many design patterns like Strategy, Factory, and Command rely heavily on polymorphism for their implementation.\n",
        "\n",
        "###Q15.  What is an abstract class in Python?\n",
        "**Answer:**\n",
        "\n",
        "An **abstract class** in Python is a class that cannot be instantiated directly and is designed to be a blueprint for other classes. It often contains one or more **abstract methods**, which are methods declared but not implemented in the abstract class. Subclasses inheriting from the abstract class are required to provide implementations for these abstract methods.\n",
        "\n",
        "Abstract classes are used to define a common interface for a group of related classes, ensuring that certain methods are implemented in all subclasses. This promotes consistency and enforces a contract for subclasses.\n",
        "\n",
        "###Q16. What are the advantages of OOP?\n",
        "**Answer:**\n",
        "\n",
        "Object-Oriented Programming (OOP) offers several advantages that make software development more efficient, modular, and maintainable:\n",
        "\n",
        "- **Modularity:** Code is organized into classes and objects, making it easier to manage and understand.\n",
        "- **Reusability:** Classes and objects can be reused across different programs, reducing redundancy.\n",
        "- **Encapsulation:** Internal object details are hidden, improving data protection and reducing complexity.\n",
        "- **Inheritance:** New classes can be built upon existing ones, enabling code reuse and easier updates.\n",
        "- **Polymorphism:** The same method or interface can work with different types of data, increasing flexibility.\n",
        "- **Maintainability:** Code is easier to update and modify without affecting other parts of the program.\n",
        "- **Scalability:** Projects can grow more easily with well-structured and reusable components.\n",
        "\n",
        "###Q17.  What is the difference between a class variable and an instance variable?\n",
        "**Answer:**\n",
        "\n",
        "The main difference between a **class variable** and an **instance variable** lies in how they are stored and shared among objects:\n",
        "\n",
        "- **Class Variable:**\n",
        "  - Defined inside a class but **outside any method**.\n",
        "  - Shared across **all instances** of the class.\n",
        "  - Changing the class variable affects all objects unless overridden by an instance.\n",
        "\n",
        "- **Instance Variable:**\n",
        "  - Defined **inside a constructor or method** using `self`.\n",
        "  - Unique to **each object** created from the class.\n",
        "  - Changing the instance variable affects **only that specific object**.\n",
        "\n",
        "###Q18. What is multiple inheritance in Python?\n",
        "**Answer:**\n",
        "\n",
        "**Multiple inheritance** in Python is a feature where a class can inherit attributes and methods from **more than one parent class**. This allows a child class to combine the functionality of multiple base classes.\n",
        "\n",
        "Python supports multiple inheritance directly, and it uses the **Method Resolution Order (MRO)** to determine which method or attribute to use when there are conflicts or overlaps.\n",
        "\n",
        "Multiple inheritance can be powerful, but it should be used carefully to avoid complexity and ambiguity, especially when parent classes have methods or attributes with the same names.\n",
        "\n",
        "###Q19. Explain the purpose of ‘’__str__’ and ‘__repr__’ ‘ methods in Python.\n",
        "**Answer:**\n",
        "\n",
        "The `__str__` and `__repr__` methods in Python are special (dunder) methods used to define **string representations** of objects, mainly for readability and debugging.\n",
        "\n",
        "- **`__str__` (String Representation):**  \n",
        "  This method is called by the `str()` function and the `print()` statement. It returns a user-friendly, readable string representation of the object. It's meant for end users.\n",
        "\n",
        "- **`__repr__` (Official Representation):**  \n",
        "  This method is called by the `repr()` function and is used in the interpreter and debugging. It returns a string that should ideally be a valid Python expression that can recreate the object. It's meant for developers.\n",
        "\n",
        "If `__str__` is not defined, Python will fall back to `__repr__`.\n",
        "\n",
        "###Q20. What is the significance of the ‘super()’ function in Python?\n",
        "**Answer:**\n",
        "\n",
        "The `super()` function in Python is used to call a method from a **parent class** within a child class. It allows the child class to access or extend the functionality of its superclass without explicitly naming it.\n",
        "\n",
        "The main purposes of `super()` are:\n",
        "\n",
        "- To invoke the parent class's `__init__` method for proper initialization.\n",
        "- To call overridden methods from the parent class.\n",
        "- To support multiple inheritance by following Python's Method Resolution Order (MRO), ensuring that each class in the hierarchy is initialized or used in a predictable way.\n",
        "\n",
        "Using `super()` makes code more maintainable and avoids hardcoding the parent class name, especially helpful in complex inheritance structures.\n",
        "\n",
        "###Q21 What is the significance of the __del__ method in Python?\n",
        "**Answer:**\n",
        "\n",
        "The `__del__` method in Python is a special (dunder) method known as a **destructor**. It is automatically called when an object is about to be destroyed, typically when there are no more references to it.\n",
        "\n",
        "The main purpose of `__del__` is to perform **cleanup tasks**, such as releasing external resources (like files or network connections), closing database connections, or logging the object's deletion.\n",
        "\n",
        "However, its use is limited and should be handled with care because:\n",
        "\n",
        "- The timing of `__del__` execution is not guaranteed (especially in environments with garbage collection like Python).\n",
        "- Relying on it for important resource cleanup can lead to unpredictable behavior.\n",
        "\n",
        "Instead, it's often better to use context managers (`with` statements) for resource management. The `__del__` method is useful for logging or light cleanup, but not for critical operations.\n",
        "\n",
        "###Q22.  What is the difference between @staticmethod and @classmethod in Python?\n",
        "**Answer:**\n",
        "\n",
        "In Python, both `@staticmethod` and `@classmethod` are decorators used to define methods that are not regular instance methods. However, they serve different purposes and have distinct behaviors:\n",
        "\n",
        "- **@staticmethod:**\n",
        "  - Does not take the instance (`self`) or class (`cls`) as the first argument.\n",
        "  - Behaves like a plain function that happens to reside in the class's namespace.\n",
        "  - Cannot access or modify class or instance state.\n",
        "  - Used for utility functions related to the class, but not dependent on class or instance data.\n",
        "\n",
        "- **@classmethod:**\n",
        "  - Takes the class itself (`cls`) as the first argument.\n",
        "  - Can access and modify class-level attributes and call other class methods.\n",
        "  - Commonly used for factory methods that create instances using class information.\n",
        "\n",
        "**Key Difference:**  \n",
        "`@classmethod` is aware of the class it belongs to and can interact with it, while `@staticmethod` is entirely independent of class and instance context.\n",
        "\n",
        "###Q23. How does polymorphism work in Python with inheritance?\n",
        "**Answer:**\n",
        "\n",
        "Polymorphism in Python works seamlessly with inheritance by allowing methods in different classes to have the same name but behave differently depending on the object calling them.\n",
        "\n",
        "When a child class inherits from a parent class and overrides one or more methods, it provides its own implementation of those methods. If a function or loop calls a method on objects from different subclasses through a common base class reference, Python will automatically use the correct method based on the actual object type. This is known as **runtime polymorphism**.\n",
        "\n",
        "This mechanism allows developers to write flexible and generalized code that can operate on objects of different classes, as long as they share a common interface (usually through inheritance).\n",
        "\n",
        "###Q24.  What is method chaining in Python OOP?\n",
        "**Answer:**\n",
        "\n",
        "**Method chaining** in Python OOP is a programming technique where multiple methods are called on the same object in a single line, one after the other. This is possible when each method returns the object itself (`self`), allowing another method to be called immediately on the result.\n",
        "\n",
        "It is commonly used to write more readable and concise code, especially in cases where multiple operations are applied in sequence.\n",
        "\n",
        "To enable method chaining, each method in the class must return `self` at the end of its execution.\n",
        "\n",
        "###Q25. What is the purpose of the __call__ method in Python?\n",
        "**Answer:**\n",
        "\n",
        "The `__call__` method in Python is a special (dunder) method that allows an instance of a class to be called as if it were a function. When a class defines the `__call__` method, its objects become **callable**, meaning you can use parentheses `()` after the object name to execute the `__call__` method.\n",
        "\n",
        "**Purpose of `__call__`:**\n",
        "- To make objects behave like functions.\n",
        "- To encapsulate behavior in objects while still using function-like syntax.\n",
        "- Useful in situations like decorators, function wrappers, and event handlers.\n",
        "\n",
        "This method adds flexibility and readability to object-oriented code, allowing objects to perform actions directly when \"called.\"\n",
        "\n",
        "In summary, the `__call__` method allows an object to be invoked like a function, providing a powerful way to design flexible and intuitive interfaces.\n",
        "\n",
        "\n",
        "\n",
        "\n",
        "\n",
        "\n",
        "\n",
        "\n",
        "\n",
        "\n"
      ],
      "metadata": {
        "id": "en_Ww4NMy7Q9"
      }
    },
    {
      "cell_type": "markdown",
      "source": [
        "#Practical OPPs Questions"
      ],
      "metadata": {
        "id": "EeL3mShEy2Zm"
      }
    },
    {
      "cell_type": "markdown",
      "source": [
        "###Q1. Create a parent class Animal with a method speak() that prints a generic message. Create a child class Dog that overrides the speak() method to print \"Bark!\"."
      ],
      "metadata": {
        "id": "5bGOqRM6M8_J"
      }
    },
    {
      "cell_type": "code",
      "source": [
        "class Animal:\n",
        "    def speak(self):\n",
        "        print(\"This animal makes a sound.\")\n",
        "\n",
        "class Dog(Animal):\n",
        "    def speak(self):\n",
        "        print(\"Bark!\")\n"
      ],
      "metadata": {
        "id": "d8oJ0Pi_NoJb"
      },
      "execution_count": 1,
      "outputs": []
    },
    {
      "cell_type": "markdown",
      "source": [
        "###Q2. Write a program to create an abstract class Shape with a method area(). Derive classes Circle and Rectangle from it and implement the area() method in both."
      ],
      "metadata": {
        "id": "tM7KRr0wNt-Q"
      }
    },
    {
      "cell_type": "code",
      "source": [
        "from abc import ABC, abstractmethod\n",
        "import math\n",
        "\n",
        "class Shape(ABC):\n",
        "    @abstractmethod\n",
        "    def area(self):\n",
        "        pass\n",
        "\n",
        "class Circle(Shape):\n",
        "    def __init__(self, radius):\n",
        "        self.radius = radius\n",
        "\n",
        "    def area(self):\n",
        "        return math.pi * self.radius ** 2\n",
        "\n",
        "class Rectangle(Shape):\n",
        "    def __init__(self, length, width):\n",
        "        self.length = length\n",
        "        self.width = width\n",
        "\n",
        "    def area(self):\n",
        "        return self.length * self.width\n"
      ],
      "metadata": {
        "id": "yiIDNQaUN0jj"
      },
      "execution_count": 2,
      "outputs": []
    },
    {
      "cell_type": "markdown",
      "source": [
        "###Q3. Implement a multi-level inheritance scenario where a class Vehicle has an attribute type. Derive a class Car and further derive a class ElectricCar that adds a battery attribute."
      ],
      "metadata": {
        "id": "6ajJS07wN9OO"
      }
    },
    {
      "cell_type": "code",
      "source": [
        "class Vehicle:\n",
        "    def __init__(self, vehicle_type):\n",
        "        self.type = vehicle_type\n",
        "\n",
        "class Car(Vehicle):\n",
        "    def __init__(self, vehicle_type, brand):\n",
        "        super().__init__(vehicle_type)\n",
        "        self.brand = brand\n",
        "\n",
        "class ElectricCar(Car):\n",
        "    def __init__(self, vehicle_type, brand, battery_capacity):\n",
        "        super().__init__(vehicle_type, brand)\n",
        "        self.battery = battery_capacity\n"
      ],
      "metadata": {
        "id": "CMNls28DODoN"
      },
      "execution_count": 3,
      "outputs": []
    },
    {
      "cell_type": "markdown",
      "source": [
        "###Q4. Demonstrate polymorphism by creating a base class Bird with a method fly(). Create two derived classes Sparrow and Penguin that override the fly() method."
      ],
      "metadata": {
        "id": "_hkKwhumOMBz"
      }
    },
    {
      "cell_type": "code",
      "source": [
        "class Bird:\n",
        "    def fly(self):\n",
        "        print(\"This bird can fly.\")\n",
        "\n",
        "class Sparrow(Bird):\n",
        "    def fly(self):\n",
        "        print(\"Sparrow flies high in the sky.\")\n",
        "\n",
        "class Penguin(Bird):\n",
        "    def fly(self):\n",
        "        print(\"Penguins cannot fly, they swim.\")\n"
      ],
      "metadata": {
        "id": "2zAxOAMqOU75"
      },
      "execution_count": 4,
      "outputs": []
    },
    {
      "cell_type": "markdown",
      "source": [
        "###Q5. Write a program to demonstrate encapsulation by creating a class BankAccount with private attributes balance and methods to deposit, withdraw, and check balance."
      ],
      "metadata": {
        "id": "jjLD_18ROfJz"
      }
    },
    {
      "cell_type": "code",
      "source": [
        "class BankAccount:\n",
        "    def __init__(self, initial_balance=0):\n",
        "        self.__balance = initial_balance  # private attribute\n",
        "\n",
        "    def deposit(self, amount):\n",
        "        if amount > 0:\n",
        "            self.__balance += amount\n",
        "            print(f\"Deposited: {amount}\")\n",
        "        else:\n",
        "            print(\"Invalid deposit amount.\")\n",
        "\n",
        "    def withdraw(self, amount):\n",
        "        if 0 < amount <= self.__balance:\n",
        "            self.__balance -= amount\n",
        "            print(f\"Withdrawn: {amount}\")\n",
        "        else:\n",
        "            print(\"Insufficient balance or invalid amount.\")\n",
        "\n",
        "    def check_balance(self):\n",
        "        print(f\"Current Balance: {self.__balance}\")\n"
      ],
      "metadata": {
        "id": "kGZv0Uc6OriD"
      },
      "execution_count": 5,
      "outputs": []
    },
    {
      "cell_type": "markdown",
      "source": [
        "###Q6. Demonstrate runtime polymorphism using a method play() in a base class Instrument. Derive classes Guitar and Piano that implement their own version of play()."
      ],
      "metadata": {
        "id": "L8STynavO1V7"
      }
    },
    {
      "cell_type": "code",
      "source": [
        "class Instrument:\n",
        "    def play(self):\n",
        "        print(\"Playing an instrument.\")\n",
        "\n",
        "class Guitar(Instrument):\n",
        "    def play(self):\n",
        "        print(\"Strumming the guitar.\")\n",
        "\n",
        "class Piano(Instrument):\n",
        "    def play(self):\n",
        "        print(\"Playing the piano.\")\n"
      ],
      "metadata": {
        "id": "tD96yU7AO7l6"
      },
      "execution_count": 6,
      "outputs": []
    },
    {
      "cell_type": "markdown",
      "source": [
        "###Q7. Create a class MathOperations with a class method add_numbers() to add two numbers and a static method subtract_numbers() to subtract two numbers."
      ],
      "metadata": {
        "id": "trVYh-7oPCWO"
      }
    },
    {
      "cell_type": "code",
      "source": [
        "#Class Definition\n",
        "class MathOperations:\n",
        "    @classmethod\n",
        "    def add_numbers(cls, a, b):\n",
        "        return a + b\n",
        "\n",
        "    @staticmethod\n",
        "    def subtract_numbers(a, b):\n",
        "        return a - b\n"
      ],
      "metadata": {
        "id": "hn2ZhCIeQZ6k"
      },
      "execution_count": 12,
      "outputs": []
    },
    {
      "cell_type": "code",
      "source": [
        "# Example Usage:\n",
        "sum_result = MathOperations.add_numbers(10, 5)\n",
        "print(\"Sum:\", sum_result)\n",
        "\n",
        "difference = MathOperations.subtract_numbers(10, 5)\n",
        "print(\"Difference:\", difference)"
      ],
      "metadata": {
        "colab": {
          "base_uri": "https://localhost:8080/"
        },
        "id": "NTc2vfD-Qc5v",
        "outputId": "0d1c3289-e26b-4351-899d-2f5aa1b2ca1f"
      },
      "execution_count": 13,
      "outputs": [
        {
          "output_type": "stream",
          "name": "stdout",
          "text": [
            "Sum: 15\n",
            "Difference: 5\n"
          ]
        }
      ]
    },
    {
      "cell_type": "markdown",
      "source": [
        "###Q8. Implement a class Person with a class method to count the total number of persons created."
      ],
      "metadata": {
        "id": "hYJ9RspMPobz"
      }
    },
    {
      "cell_type": "code",
      "source": [
        "#Class Definition\n",
        "class Person:\n",
        "    count = 0\n",
        "\n",
        "    def __init__(self, name):\n",
        "        self.name = name\n",
        "        Person.count += 1\n",
        "\n",
        "    @classmethod\n",
        "    def total_persons(cls):\n",
        "        return cls.count\n"
      ],
      "metadata": {
        "id": "mnn7p_MbVO5u"
      },
      "execution_count": 24,
      "outputs": []
    },
    {
      "cell_type": "code",
      "source": [
        "#Example Usage\n",
        "Person.count = 0\n",
        "\n",
        "p1 = Person(\"Sahil\")\n",
        "p2 = Person(\"Nancy\")\n",
        "p3 = Person(\"Sanskriti\")\n",
        "\n",
        "print(\"Total persons created:\", Person.total_persons())\n"
      ],
      "metadata": {
        "colab": {
          "base_uri": "https://localhost:8080/"
        },
        "id": "3EsB_W25Vaw9",
        "outputId": "222687fd-ff73-4967-bfad-f6a2a4a872b3"
      },
      "execution_count": 25,
      "outputs": [
        {
          "output_type": "stream",
          "name": "stdout",
          "text": [
            "Total persons created: 3\n"
          ]
        }
      ]
    },
    {
      "cell_type": "markdown",
      "source": [
        "###Q9. Write a class Fraction with attributes numerator and denominator. Override the str method to display the fraction as \"numerator/denominator\"."
      ],
      "metadata": {
        "id": "oavhytctSvjL"
      }
    },
    {
      "cell_type": "code",
      "source": [
        "#Class Definition\n",
        "class Fraction:\n",
        "    def __init__(self, numerator, denominator):\n",
        "        self.numerator = numerator\n",
        "        self.denominator = denominator\n",
        "\n",
        "    def __str__(self):\n",
        "        return f\"{self.numerator}/{self.denominator}\"\n"
      ],
      "metadata": {
        "id": "9wOKzhFIS3Do"
      },
      "execution_count": 16,
      "outputs": []
    },
    {
      "cell_type": "code",
      "source": [
        "#Example Usage\n",
        "f = Fraction(3, 4)\n",
        "print(f)  # Output: 3/4\n"
      ],
      "metadata": {
        "colab": {
          "base_uri": "https://localhost:8080/"
        },
        "id": "JyDyOibHTAk2",
        "outputId": "8e6b1cef-eca7-4275-a407-eab9556a34b0"
      },
      "execution_count": 17,
      "outputs": [
        {
          "output_type": "stream",
          "name": "stdout",
          "text": [
            "3/4\n"
          ]
        }
      ]
    },
    {
      "cell_type": "markdown",
      "source": [
        "###Q10. Demonstrate operator overloading by creating a class Vector and overriding the add method to add two vectors."
      ],
      "metadata": {
        "id": "dq73kDcnTKxS"
      }
    },
    {
      "cell_type": "code",
      "source": [
        "#Class Definition\n",
        "class Vector:\n",
        "    def __init__(self, x, y):\n",
        "        self.x = x\n",
        "        self.y = y\n",
        "\n",
        "    def __add__(self, other):\n",
        "        return Vector(self.x + other.x, self.y + other.y)\n",
        "\n",
        "    def __str__(self):\n",
        "        return f\"Vector({self.x}, {self.y})\"\n"
      ],
      "metadata": {
        "id": "SU5AMrwNTT1k"
      },
      "execution_count": 18,
      "outputs": []
    },
    {
      "cell_type": "code",
      "source": [
        "#Example Usage\n",
        "v1 = Vector(2, 3)\n",
        "v2 = Vector(4, 5)\n",
        "v3 = v1 + v2  # Uses overloaded + operator\n",
        "print(v3)     # Output: Vector(6, 8)\n"
      ],
      "metadata": {
        "colab": {
          "base_uri": "https://localhost:8080/"
        },
        "id": "2blrcEPuTr32",
        "outputId": "4f130901-e9ca-4755-da45-570567573d41"
      },
      "execution_count": 19,
      "outputs": [
        {
          "output_type": "stream",
          "name": "stdout",
          "text": [
            "Vector(6, 8)\n"
          ]
        }
      ]
    },
    {
      "cell_type": "markdown",
      "source": [
        "###Q11. Create a class Person with attributes name and age. Add a method greet() that prints \"Hello, my name is {name} and I am {age} years old.\""
      ],
      "metadata": {
        "id": "aPFn26IETx9d"
      }
    },
    {
      "cell_type": "code",
      "source": [
        "#Class Definition\n",
        "class Person:\n",
        "    def __init__(self, name, age):\n",
        "        self.name = name\n",
        "        self.age = age\n",
        "\n",
        "    def greet(self):\n",
        "        print(f\"Hello, my name is {self.name} and I am {self.age} years old.\")\n",
        "\n"
      ],
      "metadata": {
        "id": "2Y6UKS-8T5-h"
      },
      "execution_count": 28,
      "outputs": []
    },
    {
      "cell_type": "code",
      "source": [
        "#Example Usage\n",
        "p = Person(\"Amisha\", 25)\n",
        "p.greet()\n"
      ],
      "metadata": {
        "colab": {
          "base_uri": "https://localhost:8080/"
        },
        "id": "5vNQdCOtWMAw",
        "outputId": "8c06b9bd-d15a-400e-a9b3-6cd4754c8451"
      },
      "execution_count": 29,
      "outputs": [
        {
          "output_type": "stream",
          "name": "stdout",
          "text": [
            "Hello, my name is Amisha and I am 25 years old.\n"
          ]
        }
      ]
    },
    {
      "cell_type": "markdown",
      "source": [
        "###Q12. Implement a class Student with attributes name and grades. Create a method average_grade() to compute the average of the grades."
      ],
      "metadata": {
        "id": "peZwetX2WT8u"
      }
    },
    {
      "cell_type": "code",
      "source": [
        "#Class Definition\n",
        "class Student:\n",
        "    def __init__(self, name, grades):\n",
        "        self.name = name\n",
        "        self.grades = grades  # Expecting a list of numbers\n",
        "\n",
        "    def average_grade(self):\n",
        "        if not self.grades:\n",
        "            return 0  # Handle empty grades list\n",
        "        return sum(self.grades) / len(self.grades)\n"
      ],
      "metadata": {
        "id": "n1iR_eYzWcHi"
      },
      "execution_count": 30,
      "outputs": []
    },
    {
      "cell_type": "code",
      "source": [
        "#EXample Usage\n",
        "student1 = Student(\"Rahul\", [85, 90, 78, 92])\n",
        "print(f\"{student1.name}'s average grade: {student1.average_grade()}\")\n"
      ],
      "metadata": {
        "colab": {
          "base_uri": "https://localhost:8080/"
        },
        "id": "2J5oouvlWrYM",
        "outputId": "8418fdc3-070a-4992-e1ec-72527b4f5e54"
      },
      "execution_count": 31,
      "outputs": [
        {
          "output_type": "stream",
          "name": "stdout",
          "text": [
            "Rahul's average grade: 86.25\n"
          ]
        }
      ]
    },
    {
      "cell_type": "markdown",
      "source": [
        "###Q13. Create a class Rectangle with methods set_dimensions() to set the dimensions and area() to calculate the area."
      ],
      "metadata": {
        "id": "jdPj3ePsWwwl"
      }
    },
    {
      "cell_type": "code",
      "source": [
        "#Class Definition\n",
        "class Rectangle:\n",
        "    def __init__(self):\n",
        "        self.length = 0\n",
        "        self.width = 0\n",
        "\n",
        "    def set_dimensions(self, length, width):\n",
        "        self.length = length\n",
        "        self.width = width\n",
        "\n",
        "    def area(self):\n",
        "        return self.length * self.width\n"
      ],
      "metadata": {
        "id": "1n2LVho9W8Cg"
      },
      "execution_count": 32,
      "outputs": []
    },
    {
      "cell_type": "code",
      "source": [
        "#Example Usage\n",
        "rect = Rectangle()\n",
        "rect.set_dimensions(5, 3)\n",
        "print(\"Area of rectangle:\", rect.area())\n"
      ],
      "metadata": {
        "colab": {
          "base_uri": "https://localhost:8080/"
        },
        "id": "ATI3K-PMXGwR",
        "outputId": "6220bba4-3594-4b37-b200-32a4a280cd66"
      },
      "execution_count": 33,
      "outputs": [
        {
          "output_type": "stream",
          "name": "stdout",
          "text": [
            "Area of rectangle: 15\n"
          ]
        }
      ]
    },
    {
      "cell_type": "markdown",
      "source": [
        "###Q14. Create a class Employee with a method calculate_salary() that computes the salary based on hours worked and hourly rate. Create a derived class Manager that adds a bonus to the salary."
      ],
      "metadata": {
        "id": "R7AX1zzeXM0i"
      }
    },
    {
      "cell_type": "code",
      "source": [
        "#Class Definition\n",
        "class Employee:\n",
        "    def __init__(self, hours_worked, hourly_rate):\n",
        "        self.hours_worked = hours_worked\n",
        "        self.hourly_rate = hourly_rate\n",
        "\n",
        "    def calculate_salary(self):\n",
        "        return self.hours_worked * self.hourly_rate\n",
        "\n",
        "\n",
        "class Manager(Employee):\n",
        "    def __init__(self, hours_worked, hourly_rate, bonus):\n",
        "        super().__init__(hours_worked, hourly_rate)\n",
        "        self.bonus = bonus\n",
        "\n",
        "    def calculate_salary(self):\n",
        "        base_salary = super().calculate_salary()\n",
        "        return base_salary + self.bonus\n"
      ],
      "metadata": {
        "id": "jbiiJDURXUhs"
      },
      "execution_count": 34,
      "outputs": []
    },
    {
      "cell_type": "code",
      "source": [
        "#Example USage\n",
        "emp = Employee(40, 20)\n",
        "mgr = Manager(40, 20, 500)\n",
        "\n",
        "print(\"Employee salary:\", emp.calculate_salary())\n",
        "print(\"Manager salary:\", mgr.calculate_salary())\n"
      ],
      "metadata": {
        "colab": {
          "base_uri": "https://localhost:8080/"
        },
        "id": "u9AglbD8XynV",
        "outputId": "e64bfb94-0492-47e1-80a1-f3715976e3de"
      },
      "execution_count": 35,
      "outputs": [
        {
          "output_type": "stream",
          "name": "stdout",
          "text": [
            "Employee salary: 800\n",
            "Manager salary: 1300\n"
          ]
        }
      ]
    },
    {
      "cell_type": "markdown",
      "source": [
        "###Q15. Create a class Product with attributes name, price, and quantity. Implement a method total_price() that calculates the total price of the product."
      ],
      "metadata": {
        "id": "ba17exIiX5UF"
      }
    },
    {
      "cell_type": "code",
      "source": [
        "#Class Definition\n",
        "class Product:\n",
        "    def __init__(self, name, price, quantity):\n",
        "        self.name = name\n",
        "        self.price = price\n",
        "        self.quantity = quantity\n",
        "\n",
        "    def total_price(self):\n",
        "        return self.price * self.quantity\n"
      ],
      "metadata": {
        "id": "8hIGWGrTYAjr"
      },
      "execution_count": 36,
      "outputs": []
    },
    {
      "cell_type": "code",
      "source": [
        "#Example Usage\n",
        "p = Product(\"Laptop\", 750, 3)\n",
        "print(f\"Total price for {p.name}: {p.total_price()}\")\n"
      ],
      "metadata": {
        "colab": {
          "base_uri": "https://localhost:8080/"
        },
        "id": "kmbCHSQ3X49u",
        "outputId": "31976678-62b6-48ee-e51d-2f54d974251b"
      },
      "execution_count": 37,
      "outputs": [
        {
          "output_type": "stream",
          "name": "stdout",
          "text": [
            "Total price for Laptop: 2250\n"
          ]
        }
      ]
    },
    {
      "cell_type": "markdown",
      "source": [
        "###Q16. Create a class Animal with an abstract method sound(). Create two derived classes Cow and Sheep that implement the sound() method"
      ],
      "metadata": {
        "id": "kX9xWUHdYUih"
      }
    },
    {
      "cell_type": "code",
      "source": [
        "#Class Definition\n",
        "from abc import ABC, abstractmethod\n",
        "\n",
        "class Animal(ABC):\n",
        "    @abstractmethod\n",
        "    def sound(self):\n",
        "        pass\n",
        "\n",
        "class Cow(Animal):\n",
        "    def sound(self):\n",
        "        print(\"Moo\")\n",
        "\n",
        "class Sheep(Animal):\n",
        "    def sound(self):\n",
        "        print(\"Baa\")\n"
      ],
      "metadata": {
        "id": "VM_j-Vb8YogH"
      },
      "execution_count": 38,
      "outputs": []
    },
    {
      "cell_type": "code",
      "source": [
        "#Example Usage\n",
        "cow = Cow()\n",
        "sheep = Sheep()\n",
        "\n",
        "cow.sound()    # Output: Moo\n",
        "sheep.sound()  # Output: Baa\n"
      ],
      "metadata": {
        "colab": {
          "base_uri": "https://localhost:8080/"
        },
        "id": "sYK9Xxt6YvuZ",
        "outputId": "ce3fde8d-cc6e-474c-cacd-163b2af2a963"
      },
      "execution_count": 39,
      "outputs": [
        {
          "output_type": "stream",
          "name": "stdout",
          "text": [
            "Moo\n",
            "Baa\n"
          ]
        }
      ]
    },
    {
      "cell_type": "markdown",
      "source": [
        "###Q17. Create a class Book with attributes title, author, and year_published. Add a method get_book_info() that returns a formatted string with the book's details."
      ],
      "metadata": {
        "id": "z_CTBB8KY07e"
      }
    },
    {
      "cell_type": "code",
      "source": [
        "#Class Definition\n",
        "class Book:\n",
        "    def __init__(self, title, author, year_published):\n",
        "        self.title = title\n",
        "        self.author = author\n",
        "        self.year_published = year_published\n",
        "\n",
        "    def get_book_info(self):\n",
        "        return f\"'{self.title}' by {self.author}, published in {self.year_published}\"\n"
      ],
      "metadata": {
        "id": "ibMcURzGY6Ft"
      },
      "execution_count": 43,
      "outputs": []
    },
    {
      "cell_type": "code",
      "source": [
        "#Example Usage\n",
        "book = Book(\"Python Basics\", \"John Doe\", 2021)\n",
        "print(book.get_book_info())\n",
        "\n"
      ],
      "metadata": {
        "colab": {
          "base_uri": "https://localhost:8080/"
        },
        "id": "hci4a44UWRMH",
        "outputId": "ff5a95e8-a71a-4b5b-97eb-1a21beb8a113"
      },
      "execution_count": 44,
      "outputs": [
        {
          "output_type": "stream",
          "name": "stdout",
          "text": [
            "'Python Basics' by John Doe, published in 2021\n"
          ]
        }
      ]
    },
    {
      "cell_type": "markdown",
      "source": [
        "###Q18. Create a class House with attributes address and price. Create a derived class Mansion that adds an attribute number_of_rooms"
      ],
      "metadata": {
        "id": "L-NI0eCaZe0m"
      }
    },
    {
      "cell_type": "code",
      "source": [
        "#Class Definition\n",
        "class House:\n",
        "    def __init__(self, address, price):\n",
        "        self.address = address\n",
        "        self.price = price\n",
        "\n",
        "class Mansion(House):\n",
        "    def __init__(self, address, price, number_of_rooms):\n",
        "        super().__init__(address, price)\n",
        "        self.number_of_rooms = number_of_rooms\n"
      ],
      "metadata": {
        "id": "0dXpRMUxaErS"
      },
      "execution_count": 45,
      "outputs": []
    },
    {
      "cell_type": "code",
      "source": [
        "#Example Usage\n",
        "mansion = Mansion(\"123 Luxury St\", 1_000_000, 10)\n",
        "print(f\"Address: {mansion.address}\")\n",
        "print(f\"Price: ${mansion.price}\")\n",
        "print(f\"Number of rooms: {mansion.number_of_rooms}\")\n"
      ],
      "metadata": {
        "colab": {
          "base_uri": "https://localhost:8080/"
        },
        "id": "XDmvAXVMaRe-",
        "outputId": "f3705400-f695-4c63-b2bd-07ccefec82c4"
      },
      "execution_count": 46,
      "outputs": [
        {
          "output_type": "stream",
          "name": "stdout",
          "text": [
            "Address: 123 Luxury St\n",
            "Price: $1000000\n",
            "Number of rooms: 10\n"
          ]
        }
      ]
    }
  ]
}